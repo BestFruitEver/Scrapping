{
 "cells": [
  {
   "cell_type": "markdown",
   "id": "e276932b",
   "metadata": {},
   "source": [
    "# Scrapping sur les statistiques des champions de LOL"
   ]
  },
  {
   "cell_type": "markdown",
   "id": "e33a5fa4",
   "metadata": {},
   "source": [
    "On effectue nos imports"
   ]
  },
  {
   "cell_type": "code",
   "execution_count": 17,
   "id": "f2598b19",
   "metadata": {},
   "outputs": [],
   "source": [
    "from bs4 import BeautifulSoup\n",
    "import requests\n",
    "import pandas as pd"
   ]
  },
  {
   "cell_type": "markdown",
   "id": "c48c9538",
   "metadata": {},
   "source": [
    "Récupérer les données"
   ]
  },
  {
   "cell_type": "code",
   "execution_count": 18,
   "id": "4d6d6014",
   "metadata": {},
   "outputs": [],
   "source": [
    "import requests\n",
    "\n",
    "request_text = requests.get('https://leagueoflegends.fandom.com/wiki/List_of_champions/Base_statistics')\n",
    "#request_text2 = requests.get('https://www.leagueofgraphs.com/fr/champions/builds')"
   ]
  },
  {
   "cell_type": "code",
   "execution_count": 19,
   "id": "5ff79329",
   "metadata": {},
   "outputs": [
    {
     "name": "stdout",
     "output_type": "stream",
     "text": [
      "200\n",
      "403\n"
     ]
    }
   ],
   "source": [
    "print (request_text.status_code)\n",
    "#print (request_text2.status_code)"
   ]
  },
  {
   "cell_type": "markdown",
   "id": "220873da",
   "metadata": {},
   "source": [
    "Formatage des données"
   ]
  },
  {
   "cell_type": "code",
   "execution_count": 20,
   "id": "ecfc5d97",
   "metadata": {},
   "outputs": [],
   "source": [
    "soup = BeautifulSoup(request_text.content, 'html.parser')"
   ]
  },
  {
   "cell_type": "code",
   "execution_count": 106,
   "id": "f3e8f12e",
   "metadata": {
    "scrolled": true
   },
   "outputs": [],
   "source": [
    "#print (soup.prettify())"
   ]
  },
  {
   "cell_type": "markdown",
   "id": "1dff3588",
   "metadata": {},
   "source": [
    "### Récupération du tableau contenant nos données"
   ]
  },
  {
   "cell_type": "code",
   "execution_count": 87,
   "id": "1c65c661",
   "metadata": {},
   "outputs": [],
   "source": [
    "#dt = soup.find('div', class_='mw-parser-output')\n",
    "\n",
    "dt = soup.find('table')\n",
    "sleep: 1"
   ]
  },
  {
   "cell_type": "markdown",
   "id": "ccd9362d",
   "metadata": {},
   "source": [
    "Vérification des données récupérer. Que le tableau soit bien celui que l'on recherche avec les données de nos champions"
   ]
  },
  {
   "cell_type": "code",
   "execution_count": 107,
   "id": "dcbedb6a",
   "metadata": {},
   "outputs": [],
   "source": [
    "#print (dt)"
   ]
  },
  {
   "cell_type": "code",
   "execution_count": 102,
   "id": "2d7a89fa",
   "metadata": {},
   "outputs": [],
   "source": [
    "champs = dt.find_all('td')[:50]"
   ]
  },
  {
   "cell_type": "code",
   "execution_count": null,
   "id": "1c549344",
   "metadata": {},
   "outputs": [],
   "source": [
    " print(champs)"
   ]
  },
  {
   "cell_type": "code",
   "execution_count": 104,
   "id": "bde626c2",
   "metadata": {},
   "outputs": [
    {
     "name": "stdout",
     "output_type": "stream",
     "text": [
      " Aatrox\n",
      "580\n",
      "+90\n",
      "3\n",
      "+1\n",
      "0\n",
      "+0\n",
      "0\n",
      "+0\n",
      "60\n",
      "+5\n",
      "0.651\n",
      "+2.5%\n",
      "38\n",
      "+3.25\n",
      "32\n",
      "+1.25\n",
      "345\n",
      "175\n",
      " Ahri\n",
      "526\n",
      "+92\n",
      "5.5\n",
      "+0.6\n",
      "418\n",
      "+25\n",
      "8\n",
      "+0.8\n",
      "53\n",
      "+3\n",
      "0.668\n",
      "+2%\n",
      "21\n",
      "+3.5\n",
      "30\n",
      "+0.5\n",
      "330\n",
      "550\n",
      " Akali\n",
      "500\n",
      "+105\n",
      "9\n",
      "+0.9\n",
      "200\n",
      "+0\n",
      "50\n",
      "+0\n",
      "62\n",
      "+3.3\n",
      "0.625\n"
     ]
    }
   ],
   "source": [
    "for champ in champs:\n",
    "    print(champ.get_text())"
   ]
  },
  {
   "cell_type": "markdown",
   "id": "4bb59559",
   "metadata": {},
   "source": [
    "Cette vérification nous permet de constater que nos balises contiennent des URL pour chaque champion, relier vers un wiki spécifique à chacun que l'on peut récupérer"
   ]
  },
  {
   "cell_type": "markdown",
   "id": "4ff28ba6",
   "metadata": {},
   "source": [
    "###  Récupérer les URL"
   ]
  },
  {
   "cell_type": "markdown",
   "id": "d6a8a06f",
   "metadata": {},
   "source": [
    "Pour récupérer les URL on va placer dans une variable, toutes les balises <a> de notre tableau"
   ]
  },
  {
   "cell_type": "code",
   "execution_count": 100,
   "id": "3fd3347a",
   "metadata": {},
   "outputs": [
    {
     "name": "stdout",
     "output_type": "stream",
     "text": [
      "[<a href=\"/wiki/Champion\" title=\"Champion\">Champions</a>, <a href=\"/wiki/Health\" title=\"Health\">HP</a>, <a href=\"/wiki/Health_regeneration\" title=\"Health regeneration\">HP5</a>, <a href=\"/wiki/Mana\" title=\"Mana\">MP</a>, <a href=\"/wiki/Mana_regeneration\" title=\"Mana regeneration\">MP5</a>, <a href=\"/wiki/Attack_damage\" title=\"Attack damage\">AD</a>, <a href=\"/wiki/Attack_speed\" title=\"Attack speed\">AS</a>, <a href=\"/wiki/Armor\" title=\"Armor\">AR</a>, <a href=\"/wiki/Magic_resistance\" title=\"Magic resistance\">MR</a>, <a href=\"/wiki/Movement_speed\" title=\"Movement speed\">MS</a>, <a href=\"/wiki/Range\" title=\"Range\">Range</a>, <a href=\"/wiki/Aatrox/LoL\" title=\"Aatrox\"><img alt=\"Aatrox\" class=\"lazyload\" data-image-key=\"Aatrox_OriginalCircle.png\" data-image-name=\"Aatrox OriginalCircle.png\" data-src=\"https://static.wikia.nocookie.net/leagueoflegends/images/9/9f/Aatrox_OriginalCircle.png/revision/latest/scale-to-width-down/20?cb=20201218013448\" decoding=\"async\" height=\"20\" src=\"data:image/gif;base64,R0lGODlhAQABAIABAAAAAP///yH5BAEAAAEALAAAAAABAAEAQAICTAEAOw%3D%3D\" width=\"20\"/></a>, <a href=\"/wiki/Aatrox/LoL\" title=\"Aatrox/LoL\">Aatrox</a>, <a href=\"/wiki/Ahri/LoL\" title=\"Ahri\"><img alt=\"Ahri\" class=\"lazyload\" data-image-key=\"Ahri_OriginalCircle.png\" data-image-name=\"Ahri OriginalCircle.png\" data-src=\"https://static.wikia.nocookie.net/leagueoflegends/images/2/2c/Ahri_OriginalCircle.png/revision/latest/scale-to-width-down/20?cb=20201218014147\" decoding=\"async\" height=\"20\" src=\"data:image/gif;base64,R0lGODlhAQABAIABAAAAAP///yH5BAEAAAEALAAAAAABAAEAQAICTAEAOw%3D%3D\" width=\"20\"/></a>, <a href=\"/wiki/Ahri/LoL\" title=\"Ahri/LoL\">Ahri</a>, <a href=\"/wiki/Akali/LoL\" title=\"Akali\"><img alt=\"Akali\" class=\"lazyload\" data-image-key=\"Akali_OriginalCircle.png\" data-image-name=\"Akali OriginalCircle.png\" data-src=\"https://static.wikia.nocookie.net/leagueoflegends/images/c/cf/Akali_OriginalCircle.png/revision/latest/scale-to-width-down/20?cb=20210619162426\" decoding=\"async\" height=\"20\" src=\"data:image/gif;base64,R0lGODlhAQABAIABAAAAAP///yH5BAEAAAEALAAAAAABAAEAQAICTAEAOw%3D%3D\" width=\"20\"/></a>, <a href=\"/wiki/Akali/LoL\" title=\"Akali/LoL\">Akali</a>, <a href=\"/wiki/Akshan/LoL\" title=\"Akshan\"><img alt=\"Akshan\" class=\"lazyload\" data-image-key=\"Akshan_OriginalCircle.png\" data-image-name=\"Akshan OriginalCircle.png\" data-src=\"https://static.wikia.nocookie.net/leagueoflegends/images/8/8f/Akshan_OriginalCircle.png/revision/latest/scale-to-width-down/20?cb=20211005235203\" decoding=\"async\" height=\"20\" src=\"data:image/gif;base64,R0lGODlhAQABAIABAAAAAP///yH5BAEAAAEALAAAAAABAAEAQAICTAEAOw%3D%3D\" width=\"20\"/></a>, <a href=\"/wiki/Akshan/LoL\" title=\"Akshan/LoL\">Akshan</a>, <a href=\"/wiki/Alistar/LoL\" title=\"Alistar\"><img alt=\"Alistar\" class=\"lazyload\" data-image-key=\"Alistar_OriginalCircle.png\" data-image-name=\"Alistar OriginalCircle.png\" data-src=\"https://static.wikia.nocookie.net/leagueoflegends/images/9/92/Alistar_OriginalCircle.png/revision/latest/scale-to-width-down/20?cb=20210619163503\" decoding=\"async\" height=\"20\" src=\"data:image/gif;base64,R0lGODlhAQABAIABAAAAAP///yH5BAEAAAEALAAAAAABAAEAQAICTAEAOw%3D%3D\" width=\"20\"/></a>]\n"
     ]
    }
   ],
   "source": [
    "URLChamps = dt.find_all('a')[:20]\n",
    "print(URLChamps)"
   ]
  },
  {
   "cell_type": "markdown",
   "id": "966fa6d5",
   "metadata": {},
   "source": [
    "Puis on extrait seulement les valeurs des href, en retirant les liens des images pour ne pas avoir deux fois le même lien"
   ]
  },
  {
   "cell_type": "code",
   "execution_count": 101,
   "id": "baf35eab",
   "metadata": {},
   "outputs": [
    {
     "name": "stdout",
     "output_type": "stream",
     "text": [
      "/wiki/Champion\n",
      "/wiki/Health\n",
      "/wiki/Health_regeneration\n",
      "/wiki/Mana\n",
      "/wiki/Mana_regeneration\n",
      "/wiki/Attack_damage\n",
      "/wiki/Attack_speed\n",
      "/wiki/Armor\n",
      "/wiki/Magic_resistance\n",
      "/wiki/Movement_speed\n",
      "/wiki/Range\n",
      "/wiki/Aatrox/LoL\n",
      "/wiki/Ahri/LoL\n",
      "/wiki/Akali/LoL\n",
      "/wiki/Akshan/LoL\n"
     ]
    }
   ],
   "source": [
    "for url in URLChamps:\n",
    "    if url.find_all('img'):\n",
    "        continue\n",
    "    else:\n",
    "        print(url.get('href'))"
   ]
  },
  {
   "cell_type": "code",
   "execution_count": 105,
   "id": "294f50f3",
   "metadata": {},
   "outputs": [
    {
     "name": "stdout",
     "output_type": "stream",
     "text": [
      "<td data-sort-value=\"Aatrox\" style=\"text-align:left\"><span class=\"inline-image label-after champion-icon\" data-champion=\"Aatrox\" data-game=\"lol\" data-param=\"\" data-skin=\"Original\" style=\"display:inline;white-space:pre\"><span data-width=\"20\" style=\"display:inline-block;position:relative\"><a href=\"/wiki/Aatrox/LoL\" title=\"Aatrox\"><img alt=\"Aatrox\" class=\"lazyload\" data-image-key=\"Aatrox_OriginalCircle.png\" data-image-name=\"Aatrox OriginalCircle.png\" data-src=\"https://static.wikia.nocookie.net/leagueoflegends/images/9/9f/Aatrox_OriginalCircle.png/revision/latest/scale-to-width-down/20?cb=20201218013448\" decoding=\"async\" height=\"20\" src=\"data:image/gif;base64,R0lGODlhAQABAIABAAAAAP///yH5BAEAAAEALAAAAAABAAEAQAICTAEAOw%3D%3D\" width=\"20\"/></a></span> <span style=\"white-space:normal\"><a href=\"/wiki/Aatrox/LoL\" title=\"Aatrox/LoL\">Aatrox</a></span></span></td>\n",
      "<td>580</td>\n",
      "<td>+90</td>\n",
      "<td>3</td>\n",
      "<td>+1</td>\n",
      "<td>0</td>\n",
      "<td>+0</td>\n",
      "<td>0</td>\n",
      "<td>+0</td>\n",
      "<td>60</td>\n",
      "<td>+5</td>\n",
      "<td>0.<small>651</small></td>\n",
      "<td>+2.<small>5</small>%</td>\n",
      "<td>38</td>\n",
      "<td>+3.<small>25</small></td>\n",
      "<td>32</td>\n",
      "<td>+1.<small>25</small></td>\n",
      "<td>345</td>\n",
      "<td>175</td>\n",
      "<td data-sort-value=\"Ahri\" style=\"text-align:left\"><span class=\"inline-image label-after champion-icon\" data-champion=\"Ahri\" data-game=\"lol\" data-param=\"\" data-skin=\"Original\" style=\"display:inline;white-space:pre\"><span data-width=\"20\" style=\"display:inline-block;position:relative\"><a href=\"/wiki/Ahri/LoL\" title=\"Ahri\"><img alt=\"Ahri\" class=\"lazyload\" data-image-key=\"Ahri_OriginalCircle.png\" data-image-name=\"Ahri OriginalCircle.png\" data-src=\"https://static.wikia.nocookie.net/leagueoflegends/images/2/2c/Ahri_OriginalCircle.png/revision/latest/scale-to-width-down/20?cb=20201218014147\" decoding=\"async\" height=\"20\" src=\"data:image/gif;base64,R0lGODlhAQABAIABAAAAAP///yH5BAEAAAEALAAAAAABAAEAQAICTAEAOw%3D%3D\" width=\"20\"/></a></span> <span style=\"white-space:normal\"><a href=\"/wiki/Ahri/LoL\" title=\"Ahri/LoL\">Ahri</a></span></span></td>\n",
      "<td>526</td>\n",
      "<td>+92</td>\n",
      "<td>5.<small>5</small></td>\n",
      "<td>+0.<small>6</small></td>\n",
      "<td>418</td>\n",
      "<td>+25</td>\n",
      "<td>8</td>\n",
      "<td>+0.<small>8</small></td>\n",
      "<td>53</td>\n",
      "<td>+3</td>\n",
      "<td>0.<small>668</small></td>\n",
      "<td>+2%</td>\n",
      "<td>21</td>\n",
      "<td>+3.<small>5</small></td>\n",
      "<td>30</td>\n",
      "<td>+0.<small>5</small></td>\n",
      "<td>330</td>\n",
      "<td>550</td>\n",
      "<td data-sort-value=\"Akali\" style=\"text-align:left\"><span class=\"inline-image label-after champion-icon\" data-champion=\"Akali\" data-game=\"lol\" data-param=\"\" data-skin=\"Original\" style=\"display:inline;white-space:pre\"><span data-width=\"20\" style=\"display:inline-block;position:relative\"><a href=\"/wiki/Akali/LoL\" title=\"Akali\"><img alt=\"Akali\" class=\"lazyload\" data-image-key=\"Akali_OriginalCircle.png\" data-image-name=\"Akali OriginalCircle.png\" data-src=\"https://static.wikia.nocookie.net/leagueoflegends/images/c/cf/Akali_OriginalCircle.png/revision/latest/scale-to-width-down/20?cb=20210619162426\" decoding=\"async\" height=\"20\" src=\"data:image/gif;base64,R0lGODlhAQABAIABAAAAAP///yH5BAEAAAEALAAAAAABAAEAQAICTAEAOw%3D%3D\" width=\"20\"/></a></span> <span style=\"white-space:normal\"><a href=\"/wiki/Akali/LoL\" title=\"Akali/LoL\">Akali</a></span></span></td>\n",
      "<td>500</td>\n",
      "<td>+105</td>\n",
      "<td>9</td>\n",
      "<td>+0.<small>9</small></td>\n",
      "<td>200</td>\n",
      "<td>+0</td>\n",
      "<td>50</td>\n",
      "<td>+0</td>\n",
      "<td>62</td>\n",
      "<td>+3.<small>3</small></td>\n",
      "<td>0.<small>625</small></td>\n"
     ]
    }
   ],
   "source": [
    "for champ in champs:\n",
    "    if champ.find('div'):\n",
    "        continue\n",
    "    else:\n",
    "        print(champ)"
   ]
  },
  {
   "cell_type": "markdown",
   "id": "9e425fb8",
   "metadata": {},
   "source": [
    "# DataFrame"
   ]
  },
  {
   "cell_type": "markdown",
   "id": "b8c21adb",
   "metadata": {},
   "source": [
    "On va maintenant chercher à entrer ces données dans notre propre DataFrame pour pouvoir les utiliser"
   ]
  },
  {
   "cell_type": "code",
   "execution_count": null,
   "id": "897832c5",
   "metadata": {},
   "outputs": [],
   "source": []
  }
 ],
 "metadata": {
  "kernelspec": {
   "display_name": "Python 3 (ipykernel)",
   "language": "python",
   "name": "python3"
  },
  "language_info": {
   "codemirror_mode": {
    "name": "ipython",
    "version": 3
   },
   "file_extension": ".py",
   "mimetype": "text/x-python",
   "name": "python",
   "nbconvert_exporter": "python",
   "pygments_lexer": "ipython3",
   "version": "3.9.7"
  }
 },
 "nbformat": 4,
 "nbformat_minor": 5
}
